{
 "cells": [
  {
   "cell_type": "code",
   "execution_count": 1,
   "id": "452bd3a4",
   "metadata": {},
   "outputs": [],
   "source": [
    "import cv2 as cv\n",
    "import numpy as np\n",
    "import math\n",
    "import sys\n",
    "import matplotlib.pyplot as plt"
   ]
  },
  {
   "cell_type": "code",
   "execution_count": 2,
   "id": "46685f57",
   "metadata": {},
   "outputs": [],
   "source": [
    "def load_image():\n",
    "    # image load\n",
    "    img = cv.imread(\"../../Data/graffiti.png\")\n",
    "\n",
    "    # convert to RGB\n",
    "    img = cv.cvtColor(img, cv.COLOR_BGR2RGB)\n",
    "\n",
    "    return img"
   ]
  },
  {
   "cell_type": "code",
   "execution_count": 19,
   "id": "64a7dec5",
   "metadata": {},
   "outputs": [],
   "source": [
    "# Load the image\n",
    "img = load_image()\n",
    "\n",
    "# reshape the image to a 2D array of pixels and 3 color values (RGB)\n",
    "pixel_values = img.reshape((-1, 3))\n",
    "\n",
    "# convert to float\n",
    "pixel_values = np.float32(pixel_values)"
   ]
  },
  {
   "cell_type": "code",
   "execution_count": 20,
   "id": "792a0984",
   "metadata": {},
   "outputs": [
    {
     "data": {
      "text/plain": [
       "(512000, 3)"
      ]
     },
     "execution_count": 20,
     "metadata": {},
     "output_type": "execute_result"
    }
   ],
   "source": [
    "pixel_values.shape"
   ]
  },
  {
   "cell_type": "code",
   "execution_count": 21,
   "id": "4ecc959d",
   "metadata": {},
   "outputs": [],
   "source": [
    "dist_mat = np.zeros([pixel_values.shape[0], pixel_values.shape[0]])"
   ]
  },
  {
   "cell_type": "code",
   "execution_count": 74,
   "id": "1a0074a1",
   "metadata": {},
   "outputs": [],
   "source": [
    "def calculate_dist(a, b):\n",
    "    \n",
    "    dist = np.square(a - b) #+ np.square(b)\n",
    "    \n",
    "    square_eu_dist = np.sum(dist, axis=1)\n",
    "    \n",
    "    return np.sqrt(square_eu_dist)"
   ]
  },
  {
   "cell_type": "code",
   "execution_count": 75,
   "id": "e31e8be0",
   "metadata": {},
   "outputs": [
    {
     "name": "stdout",
     "output_type": "stream",
     "text": [
      "(512000, 3) (512000, 3)\n",
      "(512000,)\n"
     ]
    }
   ],
   "source": [
    "for i in range(pixel_values.shape[0]):\n",
    "    \n",
    "    if i == 1:\n",
    "        break\n",
    "    \n",
    "    X1_tmp = pixel_values[i, :]\n",
    "    X = np.repeat([X1_tmp], pixel_values.shape[0], axis=0) \n",
    "    Y = pixel_values[:, :]\n",
    "    \n",
    "    dist = calculate_dist(X, Y)\n",
    "    \n",
    "    print(X.shape, Y.shape)\n",
    "    \n",
    "    print(dist.shape)"
   ]
  },
  {
   "cell_type": "code",
   "execution_count": 76,
   "id": "2dff1b3c",
   "metadata": {},
   "outputs": [
    {
     "data": {
      "text/plain": [
       "array([[219., 209., 215.],\n",
       "       [216., 206., 215.],\n",
       "       [206., 196., 207.],\n",
       "       [187., 178., 191.],\n",
       "       [174., 166., 180.],\n",
       "       [161., 154., 166.],\n",
       "       [156., 150., 159.],\n",
       "       [155., 149., 159.],\n",
       "       [156., 149., 161.],\n",
       "       [156., 151., 162.]], dtype=float32)"
      ]
     },
     "execution_count": 76,
     "metadata": {},
     "output_type": "execute_result"
    }
   ],
   "source": [
    "pixel_values[0:10, :]"
   ]
  },
  {
   "cell_type": "code",
   "execution_count": 77,
   "id": "fec9e193",
   "metadata": {},
   "outputs": [
    {
     "data": {
      "text/plain": [
       "array([  0.       ,   4.2426405,  20.049938 ,  50.606323 ,  71.40728  ,\n",
       "        93.755    , 102.88829  , 104.0769   , 102.396286 , 100.7075   ],\n",
       "      dtype=float32)"
      ]
     },
     "execution_count": 77,
     "metadata": {},
     "output_type": "execute_result"
    }
   ],
   "source": [
    "dist[0:10]"
   ]
  },
  {
   "cell_type": "code",
   "execution_count": 79,
   "id": "3149a467",
   "metadata": {},
   "outputs": [
    {
     "name": "stdout",
     "output_type": "stream",
     "text": [
      "[9. 9. 0.]\n"
     ]
    }
   ],
   "source": [
    "v1 = np.square(pixel_values[0, :] - pixel_values[1, :])\n",
    "\n",
    "print(v1)"
   ]
  },
  {
   "cell_type": "code",
   "execution_count": null,
   "id": "48818dec",
   "metadata": {},
   "outputs": [],
   "source": [
    "|"
   ]
  }
 ],
 "metadata": {
  "kernelspec": {
   "display_name": "Python 3 (ipykernel)",
   "language": "python",
   "name": "python3"
  },
  "language_info": {
   "codemirror_mode": {
    "name": "ipython",
    "version": 3
   },
   "file_extension": ".py",
   "mimetype": "text/x-python",
   "name": "python",
   "nbconvert_exporter": "python",
   "pygments_lexer": "ipython3",
   "version": "3.10.6"
  }
 },
 "nbformat": 4,
 "nbformat_minor": 5
}
